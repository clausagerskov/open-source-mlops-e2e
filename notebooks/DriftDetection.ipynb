{
 "cells": [
  {
   "cell_type": "code",
   "execution_count": 1,
   "metadata": {},
   "outputs": [
    {
     "name": "stderr",
     "output_type": "stream",
     "text": [
      "None of PyTorch, TensorFlow >= 2.0, or Flax have been found. Models won't be available and only tokenizers, configuration and file/data utilities can be used.\n"
     ]
    }
   ],
   "source": [
    "import os\n",
    "from pathlib import Path\n",
    "\n",
    "import pandas as pd\n",
    "from alibi_detect.cd import TabularDrift\n",
    "from joblib import load\n",
    "from alibi_detect.saving import save_detector"
   ]
  },
  {
   "cell_type": "code",
   "execution_count": 7,
   "metadata": {},
   "outputs": [],
   "source": [
    "proj_path = Path(os.getcwd()).parent.absolute()\n",
    "model_path = proj_path/'models'/'clf-model.joblib'\n",
    "model = load(model_path)"
   ]
  },
  {
   "cell_type": "code",
   "execution_count": 8,
   "metadata": {},
   "outputs": [
    {
     "data": {
      "text/html": [
       "<div>\n",
       "<style scoped>\n",
       "    .dataframe tbody tr th:only-of-type {\n",
       "        vertical-align: middle;\n",
       "    }\n",
       "\n",
       "    .dataframe tbody tr th {\n",
       "        vertical-align: top;\n",
       "    }\n",
       "\n",
       "    .dataframe thead th {\n",
       "        text-align: right;\n",
       "    }\n",
       "</style>\n",
       "<table border=\"1\" class=\"dataframe\">\n",
       "  <thead>\n",
       "    <tr style=\"text-align: right;\">\n",
       "      <th></th>\n",
       "      <th>CreditScore</th>\n",
       "      <th>Age</th>\n",
       "      <th>Tenure</th>\n",
       "      <th>Balance</th>\n",
       "      <th>NumOfProducts</th>\n",
       "      <th>HasCrCard</th>\n",
       "      <th>IsActiveMember</th>\n",
       "      <th>EstimatedSalary</th>\n",
       "    </tr>\n",
       "  </thead>\n",
       "  <tbody>\n",
       "    <tr>\n",
       "      <th>2517</th>\n",
       "      <td>555</td>\n",
       "      <td>40</td>\n",
       "      <td>10</td>\n",
       "      <td>43028.77</td>\n",
       "      <td>1</td>\n",
       "      <td>1</td>\n",
       "      <td>0</td>\n",
       "      <td>170514.21</td>\n",
       "    </tr>\n",
       "    <tr>\n",
       "      <th>6487</th>\n",
       "      <td>608</td>\n",
       "      <td>38</td>\n",
       "      <td>9</td>\n",
       "      <td>102406.76</td>\n",
       "      <td>1</td>\n",
       "      <td>0</td>\n",
       "      <td>1</td>\n",
       "      <td>57600.66</td>\n",
       "    </tr>\n",
       "    <tr>\n",
       "      <th>2178</th>\n",
       "      <td>657</td>\n",
       "      <td>39</td>\n",
       "      <td>4</td>\n",
       "      <td>80293.81</td>\n",
       "      <td>1</td>\n",
       "      <td>1</td>\n",
       "      <td>0</td>\n",
       "      <td>97192.76</td>\n",
       "    </tr>\n",
       "    <tr>\n",
       "      <th>1414</th>\n",
       "      <td>586</td>\n",
       "      <td>35</td>\n",
       "      <td>7</td>\n",
       "      <td>0.00</td>\n",
       "      <td>2</td>\n",
       "      <td>1</td>\n",
       "      <td>0</td>\n",
       "      <td>70760.69</td>\n",
       "    </tr>\n",
       "    <tr>\n",
       "      <th>6228</th>\n",
       "      <td>407</td>\n",
       "      <td>37</td>\n",
       "      <td>1</td>\n",
       "      <td>0.00</td>\n",
       "      <td>1</td>\n",
       "      <td>1</td>\n",
       "      <td>1</td>\n",
       "      <td>49161.12</td>\n",
       "    </tr>\n",
       "  </tbody>\n",
       "</table>\n",
       "</div>"
      ],
      "text/plain": [
       "      CreditScore  Age  Tenure    Balance  NumOfProducts  HasCrCard  \\\n",
       "2517          555   40      10   43028.77              1          1   \n",
       "6487          608   38       9  102406.76              1          0   \n",
       "2178          657   39       4   80293.81              1          1   \n",
       "1414          586   35       7       0.00              2          1   \n",
       "6228          407   37       1       0.00              1          1   \n",
       "\n",
       "      IsActiveMember  EstimatedSalary  \n",
       "2517               0        170514.21  \n",
       "6487               1         57600.66  \n",
       "2178               0         97192.76  \n",
       "1414               0         70760.69  \n",
       "6228               1         49161.12  "
      ]
     },
     "execution_count": 8,
     "metadata": {},
     "output_type": "execute_result"
    }
   ],
   "source": [
    "X_test = pd.read_pickle(proj_path/'data'/'processed'/'X_test.pkl')\n",
    "X_train = pd.read_pickle(proj_path/'data'/'processed'/'X_train.pkl')\n",
    "\n",
    "X_train.head()\n"
   ]
  },
  {
   "cell_type": "code",
   "execution_count": 9,
   "metadata": {},
   "outputs": [],
   "source": [
    "feat_cols = X_train.columns.tolist()"
   ]
  },
  {
   "cell_type": "code",
   "execution_count": 10,
   "metadata": {},
   "outputs": [
    {
     "data": {
      "text/plain": [
       "(2509, 13)"
      ]
     },
     "execution_count": 10,
     "metadata": {},
     "output_type": "execute_result"
    }
   ],
   "source": [
    "df_germany = pd.read_csv(proj_path/'data'/'more_data'/'Churn_Modelling_Germany.csv')\n",
    "df_germany.shape"
   ]
  },
  {
   "cell_type": "code",
   "execution_count": 11,
   "metadata": {},
   "outputs": [],
   "source": [
    "X_germany = df_germany[feat_cols]"
   ]
  },
  {
   "cell_type": "code",
   "execution_count": 12,
   "metadata": {},
   "outputs": [],
   "source": [
    "preprocessor = model[:-1]"
   ]
  },
  {
   "cell_type": "code",
   "execution_count": 15,
   "metadata": {},
   "outputs": [],
   "source": [
    "categories_per_feature = {i:None for i,k in enumerate(feat_cols) if k.startswith(\"cat__\")}\n",
    "\n",
    "cd = TabularDrift(X_train,\n",
    "                  p_val=.05,\n",
    "                  preprocess_fn=preprocessor.transform,\n",
    "                  categories_per_feature=categories_per_feature)"
   ]
  },
  {
   "cell_type": "code",
   "execution_count": 18,
   "metadata": {},
   "outputs": [
    {
     "name": "stdout",
     "output_type": "stream",
     "text": [
      "Drift? No!\n"
     ]
    }
   ],
   "source": [
    "preds = cd.predict(X_test)\n",
    "labels = ['No!', 'Yes!']\n",
    "print('Drift? {}'.format(labels[preds['data']['is_drift']]))"
   ]
  },
  {
   "cell_type": "code",
   "execution_count": 20,
   "metadata": {},
   "outputs": [
    {
     "data": {
      "text/plain": [
       "{'data': {'is_drift': 0,\n",
       "  'distance': array([0.02295547, 0.01625597, 0.01873707, 0.02723647, 0.00164913,\n",
       "         0.01795582, 0.00275539, 0.02602135], dtype=float32),\n",
       "  'p_val': array([0.6866387 , 0.9588626 , 0.88434815, 0.4698443 , 1.        ,\n",
       "         0.9122476 , 1.        , 0.52881515], dtype=float32),\n",
       "  'threshold': 0.00625},\n",
       " 'meta': {'name': 'TabularDrift',\n",
       "  'online': False,\n",
       "  'data_type': None,\n",
       "  'version': '0.12.0',\n",
       "  'detector_type': 'drift'}}"
      ]
     },
     "execution_count": 20,
     "metadata": {},
     "output_type": "execute_result"
    }
   ],
   "source": [
    "preds"
   ]
  },
  {
   "cell_type": "code",
   "execution_count": 21,
   "metadata": {},
   "outputs": [
    {
     "data": {
      "text/plain": [
       "array([0.6866387 , 0.9588626 , 0.88434815, 0.4698443 , 1.        ,\n",
       "       0.9122476 , 1.        , 0.52881515], dtype=float32)"
      ]
     },
     "execution_count": 21,
     "metadata": {},
     "output_type": "execute_result"
    }
   ],
   "source": [
    "preds['data']['p_val']"
   ]
  },
  {
   "cell_type": "code",
   "execution_count": 22,
   "metadata": {},
   "outputs": [
    {
     "name": "stdout",
     "output_type": "stream",
     "text": [
      "Drift? Yes!\n"
     ]
    }
   ],
   "source": [
    "preds = cd.predict(X_germany)\n",
    "labels = ['No!', 'Yes!']\n",
    "print('Drift? {}'.format(labels[preds['data']['is_drift']]))"
   ]
  },
  {
   "cell_type": "code",
   "execution_count": 23,
   "metadata": {},
   "outputs": [
    {
     "data": {
      "text/plain": [
       "{'data': {'is_drift': 1,\n",
       "  'distance': array([0.01917945, 0.07051123, 0.01686763, 0.4850008 , 0.03931354,\n",
       "         0.01381451, 0.02402934, 0.02331847], dtype=float32),\n",
       "  'p_val': array([5.1577330e-01, 3.1598873e-08, 6.7854744e-01, 0.0000000e+00,\n",
       "         7.4593052e-03, 8.7728035e-01, 2.4575511e-01, 2.7731997e-01],\n",
       "        dtype=float32),\n",
       "  'threshold': 0.00625},\n",
       " 'meta': {'name': 'TabularDrift',\n",
       "  'online': False,\n",
       "  'data_type': None,\n",
       "  'version': '0.12.0',\n",
       "  'detector_type': 'drift'}}"
      ]
     },
     "execution_count": 23,
     "metadata": {},
     "output_type": "execute_result"
    }
   ],
   "source": [
    "preds"
   ]
  },
  {
   "cell_type": "code",
   "execution_count": 25,
   "metadata": {},
   "outputs": [
    {
     "data": {
      "text/html": [
       "<div>\n",
       "<style scoped>\n",
       "    .dataframe tbody tr th:only-of-type {\n",
       "        vertical-align: middle;\n",
       "    }\n",
       "\n",
       "    .dataframe tbody tr th {\n",
       "        vertical-align: top;\n",
       "    }\n",
       "\n",
       "    .dataframe thead th {\n",
       "        text-align: right;\n",
       "    }\n",
       "</style>\n",
       "<table border=\"1\" class=\"dataframe\">\n",
       "  <thead>\n",
       "    <tr style=\"text-align: right;\">\n",
       "      <th></th>\n",
       "      <th>time</th>\n",
       "      <th>CreditScore</th>\n",
       "      <th>Age</th>\n",
       "      <th>Tenure</th>\n",
       "      <th>Balance</th>\n",
       "      <th>NumOfProducts</th>\n",
       "      <th>HasCrCard</th>\n",
       "      <th>IsActiveMember</th>\n",
       "      <th>EstimatedSalary</th>\n",
       "    </tr>\n",
       "  </thead>\n",
       "  <tbody>\n",
       "    <tr>\n",
       "      <th>0</th>\n",
       "      <td>2024-09-30 14:51:20.819774</td>\n",
       "      <td>0.515773</td>\n",
       "      <td>3.159887e-08</td>\n",
       "      <td>0.678547</td>\n",
       "      <td>0.0</td>\n",
       "      <td>0.007459</td>\n",
       "      <td>0.87728</td>\n",
       "      <td>0.245755</td>\n",
       "      <td>0.27732</td>\n",
       "    </tr>\n",
       "  </tbody>\n",
       "</table>\n",
       "</div>"
      ],
      "text/plain": [
       "                        time  CreditScore           Age    Tenure  Balance  \\\n",
       "0 2024-09-30 14:51:20.819774     0.515773  3.159887e-08  0.678547      0.0   \n",
       "\n",
       "   NumOfProducts  HasCrCard  IsActiveMember  EstimatedSalary  \n",
       "0       0.007459    0.87728        0.245755          0.27732  "
      ]
     },
     "execution_count": 25,
     "metadata": {},
     "output_type": "execute_result"
    }
   ],
   "source": [
    "import datetime\n",
    "now = datetime.datetime.now()\n",
    "\n",
    "p_val = preds['data']['p_val']\n",
    "\n",
    "df_p_val = pd.DataFrame([[now] + p_val.tolist()], columns=['time'] + feat_cols)\n",
    "df_p_val"
   ]
  },
  {
   "cell_type": "code",
   "execution_count": 26,
   "metadata": {},
   "outputs": [
    {
     "name": "stderr",
     "output_type": "stream",
     "text": [
      "Directory c:\\Users\\claus\\Desktop\\PSAIL\\courses\\oreilly\\open-source-mlops-e2e\\models\\drift_detector does not exist and is now created.\n",
      "Directory c:\\Users\\claus\\Desktop\\PSAIL\\courses\\oreilly\\open-source-mlops-e2e\\models\\drift_detector\\preprocess_fn does not exist and is now created.\n"
     ]
    }
   ],
   "source": [
    "detector_path = proj_path/'models'/'drift_detector'\n",
    "save_detector(cd, detector_path)"
   ]
  },
  {
   "cell_type": "code",
   "execution_count": null,
   "metadata": {},
   "outputs": [],
   "source": []
  }
 ],
 "metadata": {
  "kernelspec": {
   "display_name": ".venv",
   "language": "python",
   "name": "python3"
  },
  "language_info": {
   "codemirror_mode": {
    "name": "ipython",
    "version": 3
   },
   "file_extension": ".py",
   "mimetype": "text/x-python",
   "name": "python",
   "nbconvert_exporter": "python",
   "pygments_lexer": "ipython3",
   "version": "3.11.9"
  }
 },
 "nbformat": 4,
 "nbformat_minor": 2
}
